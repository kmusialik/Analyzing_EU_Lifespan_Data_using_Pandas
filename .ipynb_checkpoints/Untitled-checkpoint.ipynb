{
 "cells": [
  {
   "cell_type": "raw",
   "id": "b7202568",
   "metadata": {},
   "source": [
    "https://ec.europa.eu/eurostat/web/population-demography/demography-population-stock-balance/database\n",
    "\n",
    "mortality (regional level)"
   ]
  },
  {
   "cell_type": "code",
   "execution_count": null,
   "id": "fb61e492",
   "metadata": {},
   "outputs": [],
   "source": []
  }
 ],
 "metadata": {
  "kernelspec": {
   "display_name": "Python 3 (ipykernel)",
   "language": "python",
   "name": "python3"
  },
  "language_info": {
   "codemirror_mode": {
    "name": "ipython",
    "version": 3
   },
   "file_extension": ".py",
   "mimetype": "text/x-python",
   "name": "python",
   "nbconvert_exporter": "python",
   "pygments_lexer": "ipython3",
   "version": "3.9.7"
  }
 },
 "nbformat": 4,
 "nbformat_minor": 5
}
